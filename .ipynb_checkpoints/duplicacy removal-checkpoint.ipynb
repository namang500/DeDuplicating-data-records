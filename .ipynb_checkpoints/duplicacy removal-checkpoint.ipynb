{
 "cells": [
  {
   "cell_type": "code",
   "execution_count": 73,
   "metadata": {},
   "outputs": [],
   "source": [
    "import pandas as pd\n",
    "import numpy as np\n",
    "from sklearn.cluster import KMeans\n",
    "from sklearn.model_selection import train_test_split\n",
    "import recordlinkage\n",
    "from recordlinkage.datasets import load_febrl2"
   ]
  },
  {
   "cell_type": "code",
   "execution_count": 74,
   "metadata": {
    "scrolled": true
   },
   "outputs": [
    {
     "name": "stdout",
     "output_type": "stream",
     "text": [
      "             ln       dob gn       fn\n",
      "0      SMITH JR  01/03/68  F  WILLIAM\n",
      "1  ROTHMEYER JR  01/03/68  F  WILLIAM\n",
      "2       ASBY JR  01/03/68  F  WILLIAM\n",
      "3     SALTER JR  01/03/68  F  WILLIAM\n",
      "4     SALTER JR  01/03/68  F  WILLIAM\n",
      "              given_name    surname street_number         address_1  \\\n",
      "rec_id                                                                \n",
      "rec-2778-org       sarah      bruhn            44     forbes street   \n",
      "rec-712-dup-0      jacob     lanyon             5        milne cove   \n",
      "rec-1321-org     brinley  efthimiou            35  sturdee crescent   \n",
      "rec-3004-org     aleisha     hobson            54     oliver street   \n",
      "rec-1384-org       ethan    gazzola            49    sheaffe street   \n",
      "\n",
      "                address_2              suburb postcode state date_of_birth  \\\n",
      "rec_id                                                                       \n",
      "rec-2778-org   wintersloe        kellerberrin     4510   vic      19300213   \n",
      "rec-712-dup-0     wellwod  beaconsfield upper     2602   vic      19080712   \n",
      "rec-1321-org    tremearne         scarborough     5211   qld      19940319   \n",
      "rec-3004-org    inglewood           toowoomba     3175   qld      19290427   \n",
      "rec-1384-org   bimby vale          port pirie     3088    sa      19631225   \n",
      "\n",
      "              soc_sec_id  \n",
      "rec_id                    \n",
      "rec-2778-org     7535316  \n",
      "rec-712-dup-0    9497788  \n",
      "rec-1321-org     6814956  \n",
      "rec-3004-org     5967384  \n",
      "rec-1384-org     3832742  \n"
     ]
    }
   ],
   "source": [
    "#the given dataset in the home work\n",
    "dataset = pd.read_csv(r\"D:\\datasets\\Deduplication Problem - Sample Dataset.csv\")\n",
    "print(dataset.head())\n",
    "\n",
    "#dataset import from recordLinkage library consisting of 5000 recods with 1000 records being duplicated with max frequency\n",
    "#of duplicacy 5 entries of a record\n",
    "dataset1 = load_febrl2()\n",
    "\n",
    "print(dataset1.head())"
   ]
  },
  {
   "cell_type": "code",
   "execution_count": 75,
   "metadata": {},
   "outputs": [
    {
     "name": "stdout",
     "output_type": "stream",
     "text": [
      "              given_name    surname date_of_birth\n",
      "rec_id                                           \n",
      "rec-2778-org       sarah      bruhn      19300213\n",
      "rec-712-dup-0      jacob     lanyon      19080712\n",
      "rec-1321-org     brinley  efthimiou      19940319\n",
      "rec-3004-org     aleisha     hobson      19290427\n",
      "rec-1384-org       ethan    gazzola      19631225\n",
      "             ln       dob       fn\n",
      "0      SMITH JR  01/03/68  WILLIAM\n",
      "1  ROTHMEYER JR  01/03/68  WILLIAM\n",
      "2       ASBY JR  01/03/68  WILLIAM\n",
      "3     SALTER JR  01/03/68  WILLIAM\n",
      "4     SALTER JR  01/03/68  WILLIAM\n"
     ]
    }
   ],
   "source": [
    "#drop useless columns for data cleaning and its important feature extraction\n",
    "dataset1.drop(['soc_sec_id' , 'address_2' , 'suburb' , 'postcode' , 'street_number' , 'address_1' , 'state' ] , inplace  = True  , axis = 1)\n",
    "print(dataset1.head())\n",
    "dataset.drop(['gn' ] , inplace  = True  , axis = 1)\n",
    "print(dataset.head())\n"
   ]
  },
  {
   "cell_type": "code",
   "execution_count": 76,
   "metadata": {},
   "outputs": [
    {
     "name": "stdout",
     "output_type": "stream",
     "text": [
      "                      ln       dob       fn\n",
      "rec_id                                     \n",
      "rec-2778-org       bruhn  19300213    sarah\n",
      "rec-712-dup-0     lanyon  19080712    jacob\n",
      "rec-1321-org   efthimiou  19940319  brinley\n",
      "rec-3004-org      hobson  19290427  aleisha\n",
      "rec-1384-org     gazzola  19631225    ethan\n"
     ]
    }
   ],
   "source": [
    "dataset2 = pd.DataFrame()\n",
    "dataset2['ln'] = dataset1['surname']\n",
    "dataset2['dob'] = dataset1['date_of_birth']\n",
    "dataset2['fn'] = dataset1['given_name']\n",
    "print(dataset2.head())"
   ]
  },
  {
   "cell_type": "code",
   "execution_count": 77,
   "metadata": {},
   "outputs": [],
   "source": [
    "def clean_name(name):\n",
    "    sl = name.split(\" \")\n",
    "    \n",
    "    if sl[0] == 'Mr.' or sl[0] == 'Mrs.' or sl[0] == 'Sir' or sl[0] == 'Mam' or sl[0] == 'Sr.' or sl[0] == 'Jr.' :\n",
    "        return s1[1]\n",
    "    #the name is returned after designation\n",
    "    else:\n",
    "        return sl[0]\n",
    "    #if no respectable designation is found the return name\n",
    "\n",
    "\n",
    "def format_dob(dob):\n",
    "    dob = dob.replace(\"/\" , \"\")\n",
    "    #format dob by removing '/' to make it just a number value , simple to work in numpy\n",
    "    return dob"
   ]
  },
  {
   "cell_type": "code",
   "execution_count": 78,
   "metadata": {
    "scrolled": true
   },
   "outputs": [
    {
     "name": "stdout",
     "output_type": "stream",
     "text": [
      "          ln     dob       fn\n",
      "0      SMITH  010368  WILLIAM\n",
      "1  ROTHMEYER  010368  WILLIAM\n",
      "2       ASBY  010368  WILLIAM\n",
      "3     SALTER  010368  WILLIAM\n",
      "4     SALTER  010368  WILLIAM\n"
     ]
    }
   ],
   "source": [
    "#data preprocessing and cleaning step \n",
    "dataset['ln'] = dataset['ln'].apply(clean_name)\n",
    "dataset['fn'] = dataset['fn'].apply(clean_name)\n",
    "dataset['dob'] = dataset['dob'].apply(format_dob)\n",
    "print(dataset.head())"
   ]
  },
  {
   "cell_type": "code",
   "execution_count": 79,
   "metadata": {},
   "outputs": [
    {
     "name": "stdout",
     "output_type": "stream",
     "text": [
      "                        ln       dob         fn\n",
      "rec-2778-org         bruhn  19300213      sarah\n",
      "rec-712-dup-0       lanyon  19080712      jacob\n",
      "rec-1321-org     efthimiou  19940319    brinley\n",
      "rec-3004-org        hobson  19290427    aleisha\n",
      "rec-1384-org       gazzola  19631225      ethan\n",
      "rec-3981-org          hope  19421201     alicia\n",
      "rec-916-org       kolosche  19450918   benjamin\n",
      "rec-1684-org        lusted  19950620   petreece\n",
      "rec-63-dup-0         white  19000106     olivia\n",
      "rec-3808-org       maynard  19150402  fernandez\n",
      "rec-112-org           rudd  19951125     joshua\n",
      "rec-3297-org        lomman  19910228    rachael\n",
      "rec-1315-org     dissinger  19370312     joseph\n",
      "rec-1050-org         verco  19400826      sarah\n",
      "rec-2116-org       burford  19471114    sidonie\n",
      "rec-3232-org       carbone  19720809     andrew\n",
      "rec-1900-dup-1     everett  19300311      kiara\n",
      "rec-2460-dup-2    hathaway  19390305   nicholas\n",
      "rec-3123-org        bastin  19580628   isabella\n",
      "rec-2166-org      matthews  19261017  alexandra\n",
      "rec-1155-org         white  19630121    matthew\n",
      "rec-1485-org          dods  19700916    michael\n",
      "rec-2852-org         white  19300311    georgia\n",
      "rec-707-org       geraghty  19231201        tia\n",
      "rec-3499-org      stearnes  19550918     brooke\n",
      "rec-2153-org    karahalios  19230614       liam\n",
      "rec-1665-dup-2     potempa  19280707     jamesr\n",
      "rec-35-dup-1      morrison  19170212      darcy\n",
      "rec-78-org          stubbs  19470214       kody\n",
      "rec-3116-org        kulacz  19850222      james\n",
      "...                    ...       ...        ...\n",
      "73                  MELVIN    071037     HAROLD\n",
      "74                  MELVIN    071037     HAROLD\n",
      "75                  CHAVAS    071037     HAROLD\n",
      "76                  CHAVAS    071037     HAROLD\n",
      "77                  CHAVAS    071037     HAROLD\n",
      "78                  CHAVAS    071037     HAROLD\n",
      "79              MICHAELSON    071037     HAROLD\n",
      "80              MICHAELSON    071037     HAROLD\n",
      "81                   SMITH    071037     HAROLD\n",
      "82                  CHAVAS    071037     HAROLD\n",
      "83                  CHAVAS    071037     HAROLD\n",
      "84                   FAGEN    071037     HAROLD\n",
      "85                   FAGEN    071037     HAROLD\n",
      "86                   FAGEN    071037     GEORGE\n",
      "87                 GRIFFIN    071037       DARH\n",
      "88                 GRIFFIN    100737       DARL\n",
      "89                 GRIFFIN    070537       DARL\n",
      "90                 GRIFFIN    070537   CLIFFORD\n",
      "91                 GRIFFIN    070537   CLIFFORD\n",
      "92                 GRIFFIN    070537   CLIFFORD\n",
      "93                 GRIFFIN    070537   CLARENCE\n",
      "94                   HANNA    241134    ADDISON\n",
      "95                   HANNA    241134    ADDISON\n",
      "96                   HANNA    241134    ADDISON\n",
      "97                   HANNA    241134    ADDISON\n",
      "98                   HANNA    241134    ADDISON\n",
      "99                GALETICH    151032    ADDISON\n",
      "100                 FUNARO    061237    HARRIET\n",
      "101                 FUNARO    061237    HARRIET\n",
      "102                 FUNARO    061237    HARRIET\n",
      "\n",
      "[5103 rows x 3 columns]\n"
     ]
    }
   ],
   "source": [
    "#merging two datasets together and replacing 'NaN' values with a particular dummy value\n",
    "\n",
    "dataset = pd.concat([dataset2 , dataset])\n",
    "dataset = dataset.fillna(value = {'fn' : 'fernandez' , 'dob' : '19300311'})\n",
    "\n",
    "print(dataset)\n"
   ]
  },
  {
   "cell_type": "code",
   "execution_count": 80,
   "metadata": {},
   "outputs": [
    {
     "name": "stdout",
     "output_type": "stream",
     "text": [
      "          ln       dob       fn\n",
      "0      bruhn  19300213    sarah\n",
      "1     lanyon  19080712    jacob\n",
      "2  efthimiou  19940319  brinley\n",
      "3     hobson  19290427  aleisha\n",
      "4    gazzola  19631225    ethan\n",
      "1143\n"
     ]
    }
   ],
   "source": [
    "dataset = np.array(dataset)\n",
    "dataset = pd.DataFrame(dataset)\n",
    "# above two lines are used to make index values same\n",
    "data = pd.DataFrame()\n",
    "data['ln'] = dataset[0]\n",
    "data['dob'] = dataset[1]\n",
    "data['fn'] = dataset[2]\n",
    "\n",
    "print(data.head())\n",
    "\n",
    "#the similar feilds are merged together through block Indexing where the most similar objects are clubbed together\n",
    "#thus helps in minimizing the number of comparisions between various values\n",
    "indexer = recordlinkage.BlockIndex(on= ['fn' , 'ln']) \n",
    "pairs = indexer.index(data)\n",
    "\n",
    "print (len(pairs))\n",
    "#prints the pairs using blocking method which is used to pair similar data feilds together"
   ]
  },
  {
   "cell_type": "code",
   "execution_count": 81,
   "metadata": {},
   "outputs": [
    {
     "data": {
      "text/html": [
       "<div>\n",
       "<style scoped>\n",
       "    .dataframe tbody tr th:only-of-type {\n",
       "        vertical-align: middle;\n",
       "    }\n",
       "\n",
       "    .dataframe tbody tr th {\n",
       "        vertical-align: top;\n",
       "    }\n",
       "\n",
       "    .dataframe thead th {\n",
       "        text-align: right;\n",
       "    }\n",
       "</style>\n",
       "<table border=\"1\" class=\"dataframe\">\n",
       "  <thead>\n",
       "    <tr style=\"text-align: right;\">\n",
       "      <th></th>\n",
       "      <th></th>\n",
       "      <th>fn</th>\n",
       "      <th>n</th>\n",
       "      <th>dob</th>\n",
       "    </tr>\n",
       "  </thead>\n",
       "  <tbody>\n",
       "    <tr>\n",
       "      <th>1</th>\n",
       "      <th>4332</th>\n",
       "      <td>1</td>\n",
       "      <td>1.0</td>\n",
       "      <td>1</td>\n",
       "    </tr>\n",
       "    <tr>\n",
       "      <th>7</th>\n",
       "      <th>3055</th>\n",
       "      <td>1</td>\n",
       "      <td>1.0</td>\n",
       "      <td>1</td>\n",
       "    </tr>\n",
       "    <tr>\n",
       "      <th rowspan=\"2\" valign=\"top\">8</th>\n",
       "      <th>90</th>\n",
       "      <td>1</td>\n",
       "      <td>1.0</td>\n",
       "      <td>1</td>\n",
       "    </tr>\n",
       "    <tr>\n",
       "      <th>2827</th>\n",
       "      <td>1</td>\n",
       "      <td>1.0</td>\n",
       "      <td>1</td>\n",
       "    </tr>\n",
       "    <tr>\n",
       "      <th>90</th>\n",
       "      <th>2827</th>\n",
       "      <td>1</td>\n",
       "      <td>1.0</td>\n",
       "      <td>1</td>\n",
       "    </tr>\n",
       "    <tr>\n",
       "      <th>9</th>\n",
       "      <th>2463</th>\n",
       "      <td>1</td>\n",
       "      <td>1.0</td>\n",
       "      <td>0</td>\n",
       "    </tr>\n",
       "    <tr>\n",
       "      <th>10</th>\n",
       "      <th>1966</th>\n",
       "      <td>1</td>\n",
       "      <td>1.0</td>\n",
       "      <td>1</td>\n",
       "    </tr>\n",
       "    <tr>\n",
       "      <th rowspan=\"2\" valign=\"top\">16</th>\n",
       "      <th>390</th>\n",
       "      <td>1</td>\n",
       "      <td>1.0</td>\n",
       "      <td>1</td>\n",
       "    </tr>\n",
       "    <tr>\n",
       "      <th>1239</th>\n",
       "      <td>1</td>\n",
       "      <td>1.0</td>\n",
       "      <td>1</td>\n",
       "    </tr>\n",
       "    <tr>\n",
       "      <th>390</th>\n",
       "      <th>1239</th>\n",
       "      <td>1</td>\n",
       "      <td>1.0</td>\n",
       "      <td>1</td>\n",
       "    </tr>\n",
       "  </tbody>\n",
       "</table>\n",
       "</div>"
      ],
      "text/plain": [
       "          fn    n  dob\n",
       "1   4332   1  1.0    1\n",
       "7   3055   1  1.0    1\n",
       "8   90     1  1.0    1\n",
       "    2827   1  1.0    1\n",
       "90  2827   1  1.0    1\n",
       "9   2463   1  1.0    0\n",
       "10  1966   1  1.0    1\n",
       "16  390    1  1.0    1\n",
       "    1239   1  1.0    1\n",
       "390 1239   1  1.0    1"
      ]
     },
     "execution_count": 81,
     "metadata": {},
     "output_type": "execute_result"
    }
   ],
   "source": [
    "compare_cl = recordlinkage.Compare()\n",
    "#this is used to compare the values with each other for clubing the duplicacies together\n",
    "compare_cl.exact('fn', 'fn', label='fn')\n",
    "compare_cl.string('ln', 'ln', method='jarowinkler', threshold=0.85, label='n')\n",
    "compare_cl.exact('dob', 'dob', label='dob')\n",
    "\n",
    "features = compare_cl.compute(pairs, data)\n",
    "#compares all possible pairs formed with the dataset to the dataset\n",
    "\n",
    "features.head(10)\n"
   ]
  },
  {
   "cell_type": "code",
   "execution_count": 82,
   "metadata": {},
   "outputs": [
    {
     "data": {
      "text/html": [
       "<div>\n",
       "<style scoped>\n",
       "    .dataframe tbody tr th:only-of-type {\n",
       "        vertical-align: middle;\n",
       "    }\n",
       "\n",
       "    .dataframe tbody tr th {\n",
       "        vertical-align: top;\n",
       "    }\n",
       "\n",
       "    .dataframe thead th {\n",
       "        text-align: right;\n",
       "    }\n",
       "</style>\n",
       "<table border=\"1\" class=\"dataframe\">\n",
       "  <thead>\n",
       "    <tr style=\"text-align: right;\">\n",
       "      <th></th>\n",
       "      <th>fn</th>\n",
       "      <th>n</th>\n",
       "      <th>dob</th>\n",
       "    </tr>\n",
       "  </thead>\n",
       "  <tbody>\n",
       "    <tr>\n",
       "      <th>count</th>\n",
       "      <td>1143.0</td>\n",
       "      <td>1143.0</td>\n",
       "      <td>1143.000000</td>\n",
       "    </tr>\n",
       "    <tr>\n",
       "      <th>mean</th>\n",
       "      <td>1.0</td>\n",
       "      <td>1.0</td>\n",
       "      <td>0.647419</td>\n",
       "    </tr>\n",
       "    <tr>\n",
       "      <th>std</th>\n",
       "      <td>0.0</td>\n",
       "      <td>0.0</td>\n",
       "      <td>0.477983</td>\n",
       "    </tr>\n",
       "    <tr>\n",
       "      <th>min</th>\n",
       "      <td>1.0</td>\n",
       "      <td>1.0</td>\n",
       "      <td>0.000000</td>\n",
       "    </tr>\n",
       "    <tr>\n",
       "      <th>25%</th>\n",
       "      <td>1.0</td>\n",
       "      <td>1.0</td>\n",
       "      <td>0.000000</td>\n",
       "    </tr>\n",
       "    <tr>\n",
       "      <th>50%</th>\n",
       "      <td>1.0</td>\n",
       "      <td>1.0</td>\n",
       "      <td>1.000000</td>\n",
       "    </tr>\n",
       "    <tr>\n",
       "      <th>75%</th>\n",
       "      <td>1.0</td>\n",
       "      <td>1.0</td>\n",
       "      <td>1.000000</td>\n",
       "    </tr>\n",
       "    <tr>\n",
       "      <th>max</th>\n",
       "      <td>1.0</td>\n",
       "      <td>1.0</td>\n",
       "      <td>1.000000</td>\n",
       "    </tr>\n",
       "  </tbody>\n",
       "</table>\n",
       "</div>"
      ],
      "text/plain": [
       "           fn       n          dob\n",
       "count  1143.0  1143.0  1143.000000\n",
       "mean      1.0     1.0     0.647419\n",
       "std       0.0     0.0     0.477983\n",
       "min       1.0     1.0     0.000000\n",
       "25%       1.0     1.0     0.000000\n",
       "50%       1.0     1.0     1.000000\n",
       "75%       1.0     1.0     1.000000\n",
       "max       1.0     1.0     1.000000"
      ]
     },
     "execution_count": 82,
     "metadata": {},
     "output_type": "execute_result"
    }
   ],
   "source": [
    "features.describe()\n",
    "#prints the box plot values ie. 5-value summary "
   ]
  },
  {
   "cell_type": "code",
   "execution_count": 83,
   "metadata": {},
   "outputs": [
    {
     "data": {
      "text/plain": [
       "3.0    740\n",
       "2.0    403\n",
       "dtype: int64"
      ]
     },
     "execution_count": 83,
     "metadata": {},
     "output_type": "execute_result"
    }
   ],
   "source": [
    "features.sum(axis=1).value_counts().sort_index(ascending=False)\n",
    "#prints those no. of entries with no. of columns matched"
   ]
  },
  {
   "cell_type": "code",
   "execution_count": 87,
   "metadata": {},
   "outputs": [
    {
     "name": "stdout",
     "output_type": "stream",
     "text": [
      "the unique entries :  740\n",
      "          fn    n  dob\n",
      "1   4332   1  1.0    1\n",
      "7   3055   1  1.0    1\n",
      "8   90     1  1.0    1\n",
      "    2827   1  1.0    1\n",
      "90  2827   1  1.0    1\n",
      "10  1966   1  1.0    1\n",
      "16  390    1  1.0    1\n",
      "    1239   1  1.0    1\n",
      "390 1239   1  1.0    1\n",
      "17  3099   1  1.0    1\n",
      "the no. of duplicated entries are  4363\n"
     ]
    }
   ],
   "source": [
    "#print(features.sum(axis=1))\n",
    "matches = features[features.sum(axis=1) > 2]\n",
    "#features.sum(axis=1) > 2 , means those data feilds with all the three entries same ie. the duplicated values show up here..\n",
    "print('the unique entries : ' ,len(matches))\n",
    "#matches prints the duplicated values in the data and thus return all the duplicated names related to a person\n",
    "print(matches.head(10))\n",
    "print(\"the no. of duplicated entries are \" , len(data) - len(matches))"
   ]
  }
 ],
 "metadata": {
  "kernelspec": {
   "display_name": "Python 3",
   "language": "python",
   "name": "python3"
  }
 },
 "nbformat": 4,
 "nbformat_minor": 2
}
